{
 "cells": [
  {
   "cell_type": "code",
   "execution_count": 1,
   "source": [
    "import numpy as np"
   ],
   "outputs": [],
   "metadata": {}
  },
  {
   "cell_type": "code",
   "execution_count": 2,
   "source": [
    "d = np.loadtxt(\"/Users/fxb/Desktop/拼车预测实验/SIMU_RESULT_2000.csv\", delimiter=',')"
   ],
   "outputs": [],
   "metadata": {}
  },
  {
   "cell_type": "code",
   "execution_count": 3,
   "source": [
    "distance = d[:, 1:]\n",
    "distance = distance - np.diag(np.diag(distance))\n",
    "distance = np.max(distance) - distance\n",
    "distance = distance - np.diag(np.diag(distance))"
   ],
   "outputs": [],
   "metadata": {}
  },
  {
   "cell_type": "code",
   "execution_count": 4,
   "source": [
    "NODE_NUM = distance.shape[0]\n",
    "MAX_ITER = 100\n",
    "K = 50\n",
    "np.random.seed(0)"
   ],
   "outputs": [],
   "metadata": {}
  },
  {
   "cell_type": "code",
   "execution_count": 5,
   "source": [
    "node_cluster = np.random.randint(low=0, high=K, size=NODE_NUM)\n",
    "medoids = np.random.choice(np.arange(0, NODE_NUM), K, False)\n",
    "iter_time = 0\n",
    "while iter_time < MAX_ITER:\n",
    "    is_converge = True\n",
    "    for i in range(NODE_NUM):\n",
    "        single_distance = distance[i, medoids]\n",
    "        if node_cluster[i] != np.argmin(single_distance):\n",
    "            node_cluster[i] = np.argmin(single_distance)\n",
    "            is_converge = False\n",
    "    avg_radius = np.zeros(K)\n",
    "    for k in range(K):\n",
    "        distance_of_kth_cluster = distance[node_cluster == k, :]\n",
    "        distance_of_kth_cluster = distance_of_kth_cluster[:, node_cluster == k]\n",
    "        avg_radius[k] = np.mean(distance_of_kth_cluster)\n",
    "        min_distance_node_idx = np.argmin(np.sum(distance_of_kth_cluster, axis=0))\n",
    "        min_distance_node_idx = np.arange(NODE_NUM)[node_cluster == k][min_distance_node_idx]\n",
    "        if medoids[k] != min_distance_node_idx:\n",
    "            medoids[k] = min_distance_node_idx\n",
    "            is_converge = False\n",
    "    print(avg_radius)\n",
    "    if is_converge:\n",
    "        break\n",
    "    iter_time += 1"
   ],
   "outputs": [
    {
     "output_type": "stream",
     "name": "stdout",
     "text": [
      "[91.89041362 79.72       77.8        73.63265306 83.90816327 73.66666667\n",
      " 82.8515625  81.5739645  85.40625    80.         76.2        69.72222222\n",
      " 82.47111111 77.24       77.02479339 81.45833333 83.76       74.40625\n",
      " 73.34375    71.60493827 79.76       82.69444444 73.94444444 85.45124717\n",
      " 54.88888889 82.05333333 81.81944444 39.5        82.73777778 72.6122449\n",
      " 81.5        79.55555556 80.41975309 81.20710059 79.5625     82.59171598\n",
      " 74.46875    81.17159763 83.69444444 73.53125    78.83333333 81.98611111\n",
      " 78.19753086 82.71972318 80.59259259 80.81481481 83.44378698 72.38888889\n",
      " 76.27160494 63.125     ]\n",
      "[91.88960773 79.72       77.8        73.63265306 83.90816327 73.66666667\n",
      " 82.8515625  81.5739645  77.46875    80.         74.53125    69.72222222\n",
      " 82.47111111 77.24       81.01020408 81.45833333 83.56444444 74.88888889\n",
      " 80.625      77.08333333 81.32653061 83.5147929  73.94444444 85.45124717\n",
      " 54.88888889 81.53061224 81.81944444 79.50617284 81.85714286 72.6122449\n",
      " 81.5        79.55555556 78.84375    82.27555556 79.5625     76.22\n",
      " 79.47222222 81.17159763 83.69444444 73.53125    77.27272727 81.98611111\n",
      " 78.19753086 83.42592593 80.59259259 80.81481481 83.44378698 72.38888889\n",
      " 76.27160494 76.82      ]\n",
      "[91.88931319 79.72       77.8        73.63265306 83.90816327 73.66666667\n",
      " 82.8515625  81.5739645  77.46875    78.46875    73.3877551  69.72222222\n",
      " 82.47111111 77.24       81.01020408 81.45833333 83.56444444 83.28888889\n",
      " 80.625      77.08333333 81.32653061 83.5147929  73.94444444 85.45124717\n",
      " 54.88888889 81.53061224 81.81944444 79.50617284 81.85714286 72.6122449\n",
      " 81.5        79.55555556 78.84375    82.27555556 79.5625     80.64285714\n",
      " 79.47222222 81.17159763 83.69444444 73.53125    77.27272727 81.98611111\n",
      " 78.19753086 83.42592593 80.59259259 80.81481481 83.44378698 72.38888889\n",
      " 76.27160494 76.82      ]\n",
      "[91.88931319 79.72       77.8        73.63265306 83.90816327 73.66666667\n",
      " 82.8515625  81.5739645  77.46875    78.46875    73.3877551  69.72222222\n",
      " 82.47111111 77.24       81.01020408 81.45833333 83.56444444 83.28888889\n",
      " 80.625      77.08333333 81.32653061 83.5147929  73.94444444 85.45124717\n",
      " 54.88888889 81.53061224 81.81944444 79.50617284 81.85714286 72.6122449\n",
      " 81.5        79.55555556 78.84375    82.27555556 79.5625     80.64285714\n",
      " 79.47222222 81.17159763 83.69444444 73.53125    77.27272727 81.98611111\n",
      " 78.19753086 83.42592593 80.59259259 80.81481481 83.44378698 72.38888889\n",
      " 76.27160494 76.82      ]\n"
     ]
    }
   ],
   "metadata": {}
  },
  {
   "cell_type": "code",
   "execution_count": 6,
   "source": [
    "np.arange(NODE_NUM)[node_cluster == 0].shape"
   ],
   "outputs": [
    {
     "output_type": "execute_result",
     "data": {
      "text/plain": [
       "(1460,)"
      ]
     },
     "metadata": {},
     "execution_count": 6
    }
   ],
   "metadata": {}
  }
 ],
 "metadata": {
  "orig_nbformat": 4,
  "language_info": {
   "name": "python",
   "version": "3.8.12",
   "mimetype": "text/x-python",
   "codemirror_mode": {
    "name": "ipython",
    "version": 3
   },
   "pygments_lexer": "ipython3",
   "nbconvert_exporter": "python",
   "file_extension": ".py"
  },
  "kernelspec": {
   "name": "python3",
   "display_name": "Python 3.8.12 64-bit ('data_processing': conda)"
  },
  "interpreter": {
   "hash": "fba49db53cdb42543eda737458aeeb56b4eb7d550fddad301fd21a2e85111693"
  }
 },
 "nbformat": 4,
 "nbformat_minor": 2
}