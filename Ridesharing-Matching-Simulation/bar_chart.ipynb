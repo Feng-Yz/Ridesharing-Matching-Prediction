{
 "cells": [
  {
   "cell_type": "code",
   "execution_count": null,
   "id": "ceec8381-7fe0-44b2-9d7b-a1716a65d2f3",
   "metadata": {},
   "outputs": [],
   "source": [
    "from sklearn.cluster import SpectralClustering\n",
    "import numpy as np\n",
    "import csv\n",
    "import pickle\n",
    "import matplotlib.pyplot as plt"
   ]
  },
  {
   "cell_type": "code",
   "execution_count": null,
   "id": "a2a0cc81-7f94-4b99-8674-4f192391e92c",
   "metadata": {},
   "outputs": [],
   "source": [
    "node_num = np.array([1263,349,388])\n",
    "plt.bar(np.arange(3), np.sort(node_num))\n",
    "plt.grid(True)\n",
    "plt.ylabel(\"Cluster Scale\")\n",
    "plt.xlabel(\"Cluster Index\")\n",
    "for a, b in zip(np.arange(15), np.sort(node_num)):\n",
    "    plt.text(a-0.1, b+0.1, \"%d\"%b)\n",
    "# plt.title(\"Number of Clusters = \" + str(CLUSTER_NUM))\n",
    "plt.show()"
   ]
  },
  {
   "cell_type": "code",
   "execution_count": null,
   "id": "b2bb267c-1cf4-4e2b-b3c9-b0ea2435b3cb",
   "metadata": {},
   "outputs": [],
   "source": [
    "[1263,349,388]"
   ]
  }
 ],
 "metadata": {
  "kernelspec": {
   "display_name": "Python 3 (ipykernel)",
   "language": "python",
   "name": "python3"
  },
  "language_info": {
   "codemirror_mode": {
    "name": "ipython",
    "version": 3
   },
   "file_extension": ".py",
   "mimetype": "text/x-python",
   "name": "python",
   "nbconvert_exporter": "python",
   "pygments_lexer": "ipython3",
   "version": "3.8.11"
  }
 },
 "nbformat": 4,
 "nbformat_minor": 5
}
