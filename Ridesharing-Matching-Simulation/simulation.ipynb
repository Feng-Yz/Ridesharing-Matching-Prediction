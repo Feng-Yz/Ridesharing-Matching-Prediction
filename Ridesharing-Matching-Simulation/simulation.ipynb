{
 "cells": [
  {
   "cell_type": "code",
   "execution_count": 1,
   "source": [
    "import simpy\n",
    "import random\n",
    "import csv"
   ],
   "outputs": [],
   "metadata": {}
  },
  {
   "cell_type": "code",
   "execution_count": 2,
   "source": [
    "OD_NUM = 5\n",
    "OD_pairs = []\n",
    "\n",
    "with open(\"OD_200.csv\", mode='r') as file:\n",
    "    data = csv.reader(file)\n",
    "    head: list = next(data)\n",
    "    id_col = head.index(\"id\")\n",
    "    x1_col = head.index(\"originX\")\n",
    "    y1_col = head.index(\"originY\")\n",
    "    x2_col = head.index(\"destX\")\n",
    "    y2_col = head.index(\"destY\")\n",
    "    lam_col = head.index(\"lambda\")\n",
    "    j = 0\n",
    "    for row in data:\n",
    "        x1 = int(row[x1_col])\n",
    "        x2 = int(row[x2_col])\n",
    "        y1 = int(row[y1_col])\n",
    "        y2 = int(row[y2_col])\n",
    "        lam = float(row[lam_col])\n",
    "        OD_pairs.append((x1, y1, x2, y2, lam))\n",
    "        j += 1\n",
    "        if j >= OD_NUM:\n",
    "             break"
   ],
   "outputs": [],
   "metadata": {}
  },
  {
   "cell_type": "code",
   "execution_count": 3,
   "source": [
    "class Network:\n",
    "    def __init__(self, env, OD_pairs):\n",
    "        self.env = env\n",
    "        self.OD_pairs = OD_pairs\n",
    "        self.passengers = {}\n",
    "        self.passenger_num = 0\n",
    "        self.PICKUP_TIME = 1\n",
    "        self.MAX_DETOUR_TIME = 5\n",
    "        self.SEARCH_RADIUS = 5\n",
    "        self.SPEED = 1\n",
    "        self.generate_OD_of_network()\n",
    "    \n",
    "    def generate_OD_of_network(self):\n",
    "        for OD_id in range(len(self.OD_pairs)):\n",
    "            self.env.process(self.generate_passengers_of_OD(OD_id))\n",
    "\n",
    "    def generate_passengers_of_OD(self, OD_id):\n",
    "        while True:\n",
    "            lam = self.OD_pairs[OD_id][4]\n",
    "            if lam != 0:\n",
    "                yield self.env.timeout(random.expovariate(lam))\n",
    "                self.env.process(self.passenger(OD_id, self.env.now))\n",
    "\n",
    "    def distance(self, x1, y1, x2, y2):\n",
    "        return abs(x1 - x2) + abs(y1 - y2)\n",
    "    \n",
    "    def passenger(self, OD_id, start_time):\n",
    "        x1 = self.OD_pairs[OD_id][0]\n",
    "        y1 = self.OD_pairs[OD_id][1]\n",
    "        x2 = self.OD_pairs[OD_id][2]\n",
    "        y2 = self.OD_pairs[OD_id][3]\n",
    "        x = x1\n",
    "        y = y1\n",
    "        print(\"Generate a passenger of OD\", OD_id, \"at time\", start_time)\n",
    "        passenger_id = self.passenger_num\n",
    "        self.passenger_num += 1\n",
    "        self.passengers[passenger_id] = [OD_id, start_time, 0, x, y] # status: 0, seeker; 1, taker; 2, matched\n",
    "        for id, passenger in list(self.passengers.items()):\n",
    "            if passenger[2] != 1:\n",
    "                continue\n",
    "            taker_x = passenger[3] # x\n",
    "            taker_y = passenger[4] # y\n",
    "            distance = abs(x - taker_x) + abs(y - taker_y)\n",
    "            if distance > self.SEARCH_RADIUS:\n",
    "                continue\n",
    "            taker_OD_id = passenger[0]\n",
    "            taker_origin_x = self.OD_pairs[taker_OD_id][0]\n",
    "            taker_origin_y = self.OD_pairs[taker_OD_id][1]\n",
    "            taker_dest_x = self.OD_pairs[taker_OD_id][2]\n",
    "            taker_dest_y = self.OD_pairs[taker_OD_id][3]\n",
    "            dist_taker = self.distance(taker_origin_x, taker_origin_y, taker_dest_x, taker_dest_y)\n",
    "            dist_seeker = self.distance(x1, y1, x2, x2)\n",
    "            dist_FOFO_taker = self.distance(taker_x, taker_y, taker_origin_x, taker_origin_y) + self.distance(taker_x, taker_y, x1, y1) + self.distance(x1, y1, taker_dest_x, taker_dest_y)\n",
    "            dist_FOFO_seeker = self.distance(x1, y1, taker_dest_x, taker_dest_y) + self.distance(x2, y2, taker_dest_x, taker_dest_y)\n",
    "            dist_FOLO_taker = self.distance(taker_x, taker_y, taker_origin_x, taker_origin_y) + self.distance(taker_x, taker_y, x1, y1) + self.distance(x1, y1, x2, y2) + self.distance(x2, y2, taker_dest_x, taker_dest_y)\n",
    "            dist_FOLO_seeker = self.distance(x1, y1, x2, y2)\n",
    "            if min(max(dist_FOFO_seeker - dist_seeker, dist_FOFO_taker - dist_taker), max(dist_FOLO_seeker - dist_seeker, dist_FOLO_taker - dist_taker)) > self.MAX_DETOUR_TIME * self.SPEED:\n",
    "                continue\n",
    "            else:\n",
    "                print(\"A passenger of OD\", OD_id, \"matches with another of OD\", taker_OD_id)\n",
    "                self.passengers.pop(id)\n",
    "                self.passengers.pop(passenger_id)\n",
    "        if passenger_id in self.passengers.keys():\n",
    "            self.passengers[passenger_id] = [OD_id, start_time, 1, x, y]\n",
    "        yield self.env.timeout(self.PICKUP_TIME)\n",
    "        while passenger_id in self.passengers.keys() and x != x2:\n",
    "            if x < x2: x += 1\n",
    "            else: x -= 1\n",
    "            self.passengers[passenger_id] = [OD_id, start_time, 1, x, y]\n",
    "            yield self.env.timeout(1 / self.SPEED)\n",
    "        while passenger_id in self.passengers.keys() and y != y2:\n",
    "            if y < y2: y += 1\n",
    "            else: y -= 1\n",
    "            self.passengers[passenger_id] = [OD_id, start_time, 1, x, y]\n",
    "            yield self.env.timeout(1 / self.SPEED)\n",
    "\n",
    "            \n"
   ],
   "outputs": [],
   "metadata": {}
  },
  {
   "cell_type": "code",
   "execution_count": 4,
   "source": [
    "random.seed(0)\n",
    "env = simpy.Environment()\n",
    "Network(env, OD_pairs)"
   ],
   "outputs": [
    {
     "output_type": "execute_result",
     "data": {
      "text/plain": [
       "<__main__.Network at 0x7f9dc13b8dc0>"
      ]
     },
     "metadata": {},
     "execution_count": 4
    }
   ],
   "metadata": {}
  },
  {
   "cell_type": "code",
   "execution_count": 5,
   "source": [
    "env.run(until=10)"
   ],
   "outputs": [
    {
     "output_type": "stream",
     "name": "stdout",
     "text": [
      "Generate a passenger of OD 3 at time 0.5992846244276283\n",
      "Generate a passenger of OD 2 at time 1.0914262910831856\n",
      "Generate a passenger of OD 4 at time 1.4319094995343014\n",
      "Generate a passenger of OD 3 at time 1.6374509968314621\n",
      "A passenger of OD 3 matches with another of OD 3\n",
      "Generate a passenger of OD 4 at time 2.154746786210002\n",
      "A passenger of OD 4 matches with another of OD 4\n",
      "Generate a passenger of OD 1 at time 2.8372583059435237\n",
      "A passenger of OD 1 matches with another of OD 2\n",
      "Generate a passenger of OD 3 at time 2.9322579359380674\n",
      "Generate a passenger of OD 0 at time 3.7212142221304467\n",
      "Generate a passenger of OD 4 at time 3.9059180639673854\n",
      "Generate a passenger of OD 2 at time 4.154515986272552\n",
      "A passenger of OD 2 matches with another of OD 0\n",
      "Generate a passenger of OD 3 at time 4.337388139776732\n",
      "A passenger of OD 3 matches with another of OD 3\n",
      "Generate a passenger of OD 0 at time 4.383334006086957\n",
      "Generate a passenger of OD 3 at time 4.914102984308182\n",
      "Generate a passenger of OD 2 at time 6.081118180469618\n",
      "A passenger of OD 2 matches with another of OD 0\n",
      "Generate a passenger of OD 4 at time 6.725487930956943\n",
      "A passenger of OD 4 matches with another of OD 4\n",
      "Generate a passenger of OD 1 at time 7.611647242588845\n",
      "Generate a passenger of OD 1 at time 8.354202388274286\n",
      "A passenger of OD 1 matches with another of OD 1\n",
      "Generate a passenger of OD 0 at time 9.193594401113312\n",
      "A passenger of OD 0 matches with another of OD 3\n",
      "Generate a passenger of OD 2 at time 9.404868597054303\n"
     ]
    }
   ],
   "metadata": {}
  }
 ],
 "metadata": {
  "orig_nbformat": 4,
  "language_info": {
   "name": "python",
   "version": "3.8.12",
   "mimetype": "text/x-python",
   "codemirror_mode": {
    "name": "ipython",
    "version": 3
   },
   "pygments_lexer": "ipython3",
   "nbconvert_exporter": "python",
   "file_extension": ".py"
  },
  "kernelspec": {
   "name": "python3",
   "display_name": "Python 3.8.12 64-bit ('data_processing': conda)"
  },
  "interpreter": {
   "hash": "fba49db53cdb42543eda737458aeeb56b4eb7d550fddad301fd21a2e85111693"
  }
 },
 "nbformat": 4,
 "nbformat_minor": 2
}