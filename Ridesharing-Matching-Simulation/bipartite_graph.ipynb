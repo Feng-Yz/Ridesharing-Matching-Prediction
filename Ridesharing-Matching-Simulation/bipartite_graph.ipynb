{
 "cells": [
  {
   "cell_type": "code",
   "execution_count": 1,
   "source": [
    "import numpy as np"
   ],
   "outputs": [],
   "metadata": {}
  },
  {
   "cell_type": "code",
   "execution_count": 2,
   "source": [
    "d = np.loadtxt(\"/Users/fxb/Desktop/拼车预测实验/SIMU_RESULT_2000.csv\", delimiter=',')"
   ],
   "outputs": [],
   "metadata": {}
  },
  {
   "cell_type": "code",
   "execution_count": 6,
   "source": [
    "alpha = (d[:, 1:] > 0).astype(int)"
   ],
   "outputs": [],
   "metadata": {}
  },
  {
   "cell_type": "code",
   "execution_count": 7,
   "source": [
    "deg = np.sum(alpha, axis=1)"
   ],
   "outputs": [],
   "metadata": {}
  },
  {
   "cell_type": "code",
   "execution_count": 8,
   "source": [
    "init_d = d[:, 1:]\n",
    "w = np.zeros((init_d.shape[0], init_d.shape[1]))\n",
    "for j in range(init_d.shape[0]):\n",
    "    for l in range(init_d.shape[1]):\n",
    "        w[j, l] = np.inner(alpha[:, j], alpha[:, l] / deg) / deg[l]"
   ],
   "outputs": [],
   "metadata": {}
  },
  {
   "cell_type": "code",
   "execution_count": 10,
   "source": [
    "new_d = w ** 5 @ init_d"
   ],
   "outputs": [],
   "metadata": {}
  },
  {
   "cell_type": "code",
   "execution_count": 21,
   "source": [
    "OD_cluster = -np.ones(init_d.shape[0])\n",
    "cluster_num = 0\n",
    "for i in range(init_d.shape[0]):\n",
    "    if OD_cluster[i] == -1:\n",
    "        OD_cluster[new_d[i, :] > 1e-6] = cluster_num\n",
    "        cluster_num += 1"
   ],
   "outputs": [],
   "metadata": {}
  },
  {
   "cell_type": "code",
   "execution_count": 19,
   "source": [
    "np.savetxt(\"/Users/fxb/Desktop/拼车预测实验/CLUSTER_2000.csv\", OD_cluster.reshape((OD_cluster.shape[0], 1)), fmt=\"%d\")"
   ],
   "outputs": [],
   "metadata": {}
  },
  {
   "cell_type": "code",
   "execution_count": 3,
   "source": [
    "import pickle"
   ],
   "outputs": [],
   "metadata": {}
  },
  {
   "cell_type": "code",
   "execution_count": 9,
   "source": [
    "# with open(\"/Users/fxb/Desktop/拼车预测实验/WEIGHT_BGRAPH\", \"wb\") as outfile:\n",
    "#     pickle.dump(w, outfile)\n",
    "# with open(\"/Users/fxb/Desktop/拼车预测实验/INIT_D\", \"wb\") as outfile:\n",
    "#     pickle.dump(init_d, outfile)"
   ],
   "outputs": [],
   "metadata": {}
  },
  {
   "cell_type": "code",
   "execution_count": 4,
   "source": [
    "with open(\"/Users/fxb/Desktop/拼车预测实验/WEIGHT_BGRAPH\", \"rb\") as outfile:\n",
    "    w = pickle.load(outfile)"
   ],
   "outputs": [
    {
     "output_type": "error",
     "ename": "EOFError",
     "evalue": "Ran out of input",
     "traceback": [
      "\u001b[0;31m---------------------------------------------------------------------------\u001b[0m",
      "\u001b[0;31mEOFError\u001b[0m                                  Traceback (most recent call last)",
      "\u001b[0;32m/var/folders/sk/whcdz5rn07z0zxql__kcmkc80000gn/T/ipykernel_17790/1219505607.py\u001b[0m in \u001b[0;36m<module>\u001b[0;34m\u001b[0m\n\u001b[1;32m      1\u001b[0m \u001b[0;32mwith\u001b[0m \u001b[0mopen\u001b[0m\u001b[0;34m(\u001b[0m\u001b[0;34m\"/Users/fxb/Desktop/拼车预测实验/WEIGHT_BGRAPH\"\u001b[0m\u001b[0;34m,\u001b[0m \u001b[0;34m\"rb\"\u001b[0m\u001b[0;34m)\u001b[0m \u001b[0;32mas\u001b[0m \u001b[0moutfile\u001b[0m\u001b[0;34m:\u001b[0m\u001b[0;34m\u001b[0m\u001b[0;34m\u001b[0m\u001b[0m\n\u001b[0;32m----> 2\u001b[0;31m     \u001b[0mw\u001b[0m \u001b[0;34m=\u001b[0m \u001b[0mpickle\u001b[0m\u001b[0;34m.\u001b[0m\u001b[0mload\u001b[0m\u001b[0;34m(\u001b[0m\u001b[0moutfile\u001b[0m\u001b[0;34m)\u001b[0m\u001b[0;34m\u001b[0m\u001b[0;34m\u001b[0m\u001b[0m\n\u001b[0m",
      "\u001b[0;31mEOFError\u001b[0m: Ran out of input"
     ]
    }
   ],
   "metadata": {}
  },
  {
   "cell_type": "code",
   "execution_count": 25,
   "source": [
    "new_d = new_d + new_d.T\n",
    "\n",
    "K = 20\n",
    "NODE_NUM = new_d.shape[0]\n",
    "MAX_ITER = 100\n",
    "node_cluster = np.random.randint(low=0, high=K, size=NODE_NUM)\n",
    "medoids = np.random.choice(np.arange(0, NODE_NUM), K, False)\n",
    "iter_time = 0\n",
    "while iter_time < MAX_ITER:\n",
    "    is_converge = True\n",
    "    for i in range(NODE_NUM):\n",
    "        single_distance = new_d[i, medoids]\n",
    "        if node_cluster[i] != np.argmax(single_distance):\n",
    "            node_cluster[i] = np.argmax(single_distance)\n",
    "            is_converge = False\n",
    "    # avg_radius = np.zeros(K)\n",
    "    for k in range(K):\n",
    "        distance_of_kth_cluster = new_d[node_cluster == k, :]\n",
    "        distance_of_kth_cluster = distance_of_kth_cluster[:, node_cluster == k]\n",
    "        # avg_radius[k] = np.mean(distance_of_kth_cluster)\n",
    "        min_distance_node_idx = np.argmax(np.sum(distance_of_kth_cluster, axis=0))\n",
    "        min_distance_node_idx = np.arange(NODE_NUM)[node_cluster == k][min_distance_node_idx]\n",
    "        if medoids[k] != min_distance_node_idx:\n",
    "            medoids[k] = min_distance_node_idx\n",
    "            is_converge = False\n",
    "    # print(avg_radius)\n",
    "    if is_converge:\n",
    "        break\n",
    "    iter_time += 1"
   ],
   "outputs": [],
   "metadata": {}
  },
  {
   "cell_type": "code",
   "execution_count": 27,
   "source": [
    "np.savetxt(\"/Users/fxb/Desktop/拼车预测实验/CLUSTER_2000.csv\", node_cluster.reshape((node_cluster.shape[0], 1)), fmt=\"%d\")"
   ],
   "outputs": [],
   "metadata": {}
  },
  {
   "cell_type": "code",
   "execution_count": 11,
   "source": [
    "import csv\n",
    "OD_NUM = 2000\n",
    "OD_filepath = \"/Users/fxb/Desktop/拼车预测实验/OD_2000.csv\"\n",
    "OD_pairs = np.zeros((OD_NUM, 6))\n",
    "with open(OD_filepath, mode='r') as file:\n",
    "    data = csv.reader(file)\n",
    "    head = next(data)\n",
    "    id_col = head.index(\"id\")\n",
    "    x1_col = head.index(\"originX\")\n",
    "    y1_col = head.index(\"originY\")\n",
    "    x2_col = head.index(\"destX\")\n",
    "    y2_col = head.index(\"destY\")\n",
    "    lam_col = head.index(\"lambda\")\n",
    "    j = 0\n",
    "    for row in data:\n",
    "        x1 = int(row[x1_col])\n",
    "        x2 = int(row[x2_col])\n",
    "        y1 = int(row[y1_col])\n",
    "        y2 = int(row[y2_col])\n",
    "        lam = float(row[lam_col])\n",
    "        OD_pairs[j, :] = np.array([[j, x1, y1, x2, y2, lam]])\n",
    "        j += 1\n",
    "        if j >= OD_NUM:\n",
    "            break"
   ],
   "outputs": [],
   "metadata": {}
  },
  {
   "cell_type": "code",
   "execution_count": 14,
   "source": [
    "MAX_OD_NUM = 100\n",
    "for n in range(MAX_OD_NUM):\n",
    "    new_OD_pairs = OD_pairs[new_d[n, :] > 0, :]\n",
    "    np.savetxt(\"/Users/fxb/Desktop/误差测试/OD_Cluster_\" + str(n) + \".csv\", new_OD_pairs, fmt=('%d', '%d', '%d', '%d', '%d', '%.2f'), delimiter=',', header=\"id, originX, originY, destX, destY, lambda\", comments='')"
   ],
   "outputs": [],
   "metadata": {}
  },
  {
   "cell_type": "code",
   "execution_count": 21,
   "source": [
    "index = -np.ones(MAX_OD_NUM)\n",
    "for n in range(MAX_OD_NUM):\n",
    "    index[n] = np.sum(new_d[n, :n] > 0)"
   ],
   "outputs": [],
   "metadata": {}
  },
  {
   "cell_type": "code",
   "execution_count": 22,
   "source": [
    "predict_result = np.zeros((MAX_OD_NUM, 3))\n",
    "for n in range(MAX_OD_NUM):\n",
    "    with open(\"/Users/fxb/Desktop/误差测试/OD_Cluster_Result_\" + str(n) + \".csv\", mode='r') as file:\n",
    "        data = csv.reader(file)\n",
    "        head = next(data)\n",
    "        pw_col = head.index(\"Pw\")\n",
    "        lw_col = head.index(\"Lw\")\n",
    "        ew_col = head.index(\"ew\")\n",
    "        j = 0\n",
    "        for row in data:\n",
    "            if j < index[n]:\n",
    "                j += 1\n",
    "                continue\n",
    "            pw = float(row[pw_col])\n",
    "            lw = float(row[lw_col])\n",
    "            ew = float(row[ew_col])\n",
    "            predict_result[n, 0] = pw\n",
    "            predict_result[n, 1] = lw\n",
    "            predict_result[n, 2] = ew\n",
    "            break"
   ],
   "outputs": [],
   "metadata": {}
  },
  {
   "cell_type": "code",
   "execution_count": 15,
   "source": [
    "OD_filepath = \"/Users/fxb/Desktop/拼车预测实验/RESULT_2000.csv\"\n",
    "global_predict_result = np.zeros((MAX_OD_NUM, 3))\n",
    "with open(OD_filepath, mode='r') as file:\n",
    "    data = csv.reader(file)\n",
    "    head = next(data)\n",
    "    pw_col = head.index(\"Pw\")\n",
    "    lw_col = head.index(\"Lw\")\n",
    "    ew_col = head.index(\"ew\")\n",
    "    j = 0\n",
    "    for row in data:\n",
    "        pw = float(row[pw_col])\n",
    "        lw = float(row[lw_col])\n",
    "        ew = float(row[ew_col])\n",
    "        global_predict_result[j, 0] = pw\n",
    "        global_predict_result[j, 1] = lw\n",
    "        global_predict_result[j, 2] = ew\n",
    "        j += 1\n",
    "        if j >= MAX_OD_NUM:\n",
    "            break"
   ],
   "outputs": [],
   "metadata": {}
  },
  {
   "cell_type": "code",
   "execution_count": 23,
   "source": [
    "rel_error = np.abs(global_predict_result - predict_result) / global_predict_result"
   ],
   "outputs": [],
   "metadata": {}
  },
  {
   "cell_type": "code",
   "execution_count": 46,
   "source": [
    "np.arange(2000)[init_d[0, :] > 0]"
   ],
   "outputs": [
    {
     "output_type": "execute_result",
     "data": {
      "text/plain": [
       "array([   0,   24,  158,  372,  477,  571,  678,  848,  942, 1000, 1022,\n",
       "       1024, 1034, 1372, 1477, 1643, 1892])"
      ]
     },
     "metadata": {},
     "execution_count": 46
    }
   ],
   "metadata": {}
  },
  {
   "cell_type": "code",
   "execution_count": 20,
   "source": [
    "np.mean(rel_error, axis=0)"
   ],
   "outputs": [
    {
     "output_type": "execute_result",
     "data": {
      "text/plain": [
       "array([0.07106474, 0.5229238 , 0.53007409])"
      ]
     },
     "metadata": {},
     "execution_count": 20
    }
   ],
   "metadata": {}
  },
  {
   "cell_type": "code",
   "execution_count": 19,
   "source": [
    "np.max(rel_error, axis=0)"
   ],
   "outputs": [
    {
     "output_type": "execute_result",
     "data": {
      "text/plain": [
       "array([0.31552397, 5.47097742, 5.03095817])"
      ]
     },
     "metadata": {},
     "execution_count": 19
    }
   ],
   "metadata": {}
  },
  {
   "cell_type": "code",
   "execution_count": 24,
   "source": [
    "np.mean(rel_error, axis=0)"
   ],
   "outputs": [
    {
     "output_type": "execute_result",
     "data": {
      "text/plain": [
       "array([0.00127837, 0.00094977, 0.00319884])"
      ]
     },
     "metadata": {},
     "execution_count": 24
    }
   ],
   "metadata": {}
  },
  {
   "cell_type": "code",
   "execution_count": 25,
   "source": [
    "np.max(rel_error, axis=0)"
   ],
   "outputs": [
    {
     "output_type": "execute_result",
     "data": {
      "text/plain": [
       "array([0.01082707, 0.00563832, 0.05705437])"
      ]
     },
     "metadata": {},
     "execution_count": 25
    }
   ],
   "metadata": {}
  },
  {
   "cell_type": "code",
   "execution_count": null,
   "source": [],
   "outputs": [],
   "metadata": {}
  }
 ],
 "metadata": {
  "orig_nbformat": 4,
  "language_info": {
   "name": "python",
   "version": "3.8.12",
   "mimetype": "text/x-python",
   "codemirror_mode": {
    "name": "ipython",
    "version": 3
   },
   "pygments_lexer": "ipython3",
   "nbconvert_exporter": "python",
   "file_extension": ".py"
  },
  "kernelspec": {
   "name": "python3",
   "display_name": "Python 3.8.12 64-bit ('data_processing': conda)"
  },
  "interpreter": {
   "hash": "fba49db53cdb42543eda737458aeeb56b4eb7d550fddad301fd21a2e85111693"
  }
 },
 "nbformat": 4,
 "nbformat_minor": 2
}