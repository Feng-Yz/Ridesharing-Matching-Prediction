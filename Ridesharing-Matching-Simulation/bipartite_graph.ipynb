{
 "cells": [
  {
   "cell_type": "code",
   "execution_count": 1,
   "metadata": {},
   "outputs": [],
   "source": [
    "import numpy as np"
   ]
  },
  {
   "cell_type": "code",
   "execution_count": 2,
   "metadata": {},
   "outputs": [],
   "source": [
    "d = np.loadtxt(r\"C:\\Users\\admin\\Desktop\\Prediction-Simulation-Data\\SIMU_RESULT_2000.csv\", delimiter=',')"
   ]
  },
  {
   "cell_type": "code",
   "execution_count": 3,
   "metadata": {},
   "outputs": [],
   "source": [
    "alpha = (d[:, 1:] > 0).astype(int)"
   ]
  },
  {
   "cell_type": "code",
   "execution_count": 4,
   "metadata": {},
   "outputs": [],
   "source": [
    "deg = np.sum(alpha, axis=1)"
   ]
  },
  {
   "cell_type": "code",
   "execution_count": 5,
   "metadata": {},
   "outputs": [],
   "source": [
    "# init_d = d[:, 1:]\n",
    "# w = np.zeros((init_d.shape[0], init_d.shape[1]))\n",
    "# for j in range(init_d.shape[0]):\n",
    "#     for l in range(init_d.shape[1]):\n",
    "#         w[j, l] = np.inner(alpha[:, j], alpha[:, l] / deg) / deg[l]"
   ]
  },
  {
   "cell_type": "code",
   "execution_count": 6,
   "metadata": {},
   "outputs": [],
   "source": [
    "import pickle"
   ]
  },
  {
   "cell_type": "code",
   "execution_count": 7,
   "metadata": {},
   "outputs": [],
   "source": [
    "# with open(r\"C:\\Users\\admin\\Desktop\\Prediction-Simulation-Data\\WEIGHT_BGRAPH\", \"wb\") as outfile:\n",
    "#     pickle.dump(w, outfile)\n",
    "# with open(r\"C:\\Users\\admin\\Desktop\\Prediction-Simulation-Data\\INIT_D\", \"wb\") as outfile:\n",
    "#     pickle.dump(init_d, outfile)"
   ]
  },
  {
   "cell_type": "code",
   "execution_count": 8,
   "metadata": {},
   "outputs": [],
   "source": [
    "with open(r\"C:\\Users\\admin\\Desktop\\Prediction-Simulation-Data\\WEIGHT_BGRAPH\", \"rb\") as outfile:\n",
    "    w = pickle.load(outfile)\n",
    "with open(r\"C:\\Users\\admin\\Desktop\\Prediction-Simulation-Data\\INIT_D\", \"rb\") as outfile:\n",
    "    init_d = pickle.load(outfile)"
   ]
  },
  {
   "cell_type": "code",
   "execution_count": 9,
   "metadata": {},
   "outputs": [],
   "source": [
    "new_d = w @ init_d"
   ]
  },
  {
   "cell_type": "code",
   "execution_count": 10,
   "metadata": {},
   "outputs": [],
   "source": [
    "import csv\n",
    "OD_NUM = 2000\n",
    "OD_filepath = r\"C:\\Users\\admin\\Desktop\\Prediction-Simulation-Data\\OD_2000.csv\"\n",
    "OD_pairs = np.zeros((OD_NUM, 6))\n",
    "with open(OD_filepath, mode='r') as file:\n",
    "    data = csv.reader(file)\n",
    "    head = next(data)\n",
    "    id_col = head.index(\"id\")\n",
    "    x1_col = head.index(\"originX\")\n",
    "    y1_col = head.index(\"originY\")\n",
    "    x2_col = head.index(\"destX\")\n",
    "    y2_col = head.index(\"destY\")\n",
    "    lam_col = head.index(\"lambda\")\n",
    "    j = 0\n",
    "    for row in data:\n",
    "        x1 = int(row[x1_col])\n",
    "        x2 = int(row[x2_col])\n",
    "        y1 = int(row[y1_col])\n",
    "        y2 = int(row[y2_col])\n",
    "        lam = float(row[lam_col])\n",
    "        OD_pairs[j, :] = np.array([[j, x1, y1, x2, y2, lam]])\n",
    "        j += 1\n",
    "        if j >= OD_NUM:\n",
    "            break"
   ]
  },
  {
   "cell_type": "code",
   "execution_count": 11,
   "metadata": {},
   "outputs": [],
   "source": [
    "MAX_OD_NUM = 100\n",
    "for n in range(MAX_OD_NUM):\n",
    "    new_OD_pairs = OD_pairs[new_d[n, :] > 0, :]\n",
    "    np.savetxt(r\"C:\\Users\\admin\\Desktop\\误差测试\\OD_Cluster_\" + str(n) + \".csv\", new_OD_pairs, fmt=('%d', '%d', '%d', '%d', '%d', '%.2f'), delimiter=',', header=\"id, originX, originY, destX, destY, lambda\", comments='')"
   ]
  },
  {
   "cell_type": "code",
   "execution_count": 12,
   "metadata": {},
   "outputs": [],
   "source": [
    "index = -np.ones(MAX_OD_NUM)\n",
    "for n in range(MAX_OD_NUM):\n",
    "    index[n] = np.sum(new_d[n, :n] > 0)"
   ]
  },
  {
   "cell_type": "code",
   "execution_count": 13,
   "metadata": {},
   "outputs": [],
   "source": [
    "predict_result = np.zeros((MAX_OD_NUM, 3))\n",
    "for n in range(MAX_OD_NUM):\n",
    "    with open(r\"C:\\Users\\admin\\Desktop\\误差测试\\OD_Cluster_Result_\" + str(n) + \".csv\", mode='r') as file:\n",
    "        data = csv.reader(file)\n",
    "        head = next(data)\n",
    "        pw_col = head.index(\"Pw\")\n",
    "        lw_col = head.index(\"Lw\")\n",
    "        ew_col = head.index(\"ew\")\n",
    "        j = 0\n",
    "        for row in data:\n",
    "            if j < index[n]:\n",
    "                j += 1\n",
    "                continue\n",
    "            pw = float(row[pw_col])\n",
    "            lw = float(row[lw_col])\n",
    "            ew = float(row[ew_col])\n",
    "            predict_result[n, 0] = pw\n",
    "            predict_result[n, 1] = lw\n",
    "            predict_result[n, 2] = ew\n",
    "            break"
   ]
  },
  {
   "cell_type": "code",
   "execution_count": 14,
   "metadata": {},
   "outputs": [],
   "source": [
    "OD_filepath = r\"C:\\Users\\admin\\Desktop\\Prediction-Simulation-Data\\RESULT_2000.csv\"\n",
    "global_predict_result = np.zeros((MAX_OD_NUM, 3))\n",
    "with open(OD_filepath, mode='r') as file:\n",
    "    data = csv.reader(file)\n",
    "    head = next(data)\n",
    "    pw_col = head.index(\"Pw\")\n",
    "    lw_col = head.index(\"Lw\")\n",
    "    ew_col = head.index(\"ew\")\n",
    "    j = 0\n",
    "    for row in data:\n",
    "        pw = float(row[pw_col])\n",
    "        lw = float(row[lw_col])\n",
    "        ew = float(row[ew_col])\n",
    "        global_predict_result[j, 0] = pw\n",
    "        global_predict_result[j, 1] = lw\n",
    "        global_predict_result[j, 2] = ew\n",
    "        j += 1\n",
    "        if j >= MAX_OD_NUM:\n",
    "            break"
   ]
  },
  {
   "cell_type": "code",
   "execution_count": 15,
   "metadata": {},
   "outputs": [],
   "source": [
    "rel_error = np.abs(global_predict_result - predict_result) / global_predict_result"
   ]
  },
  {
   "cell_type": "code",
   "execution_count": 16,
   "metadata": {
    "scrolled": true
   },
   "outputs": [
    {
     "data": {
      "text/plain": [
       "array([0.00122321, 0.00096853, 0.00321566])"
      ]
     },
     "execution_count": 16,
     "metadata": {},
     "output_type": "execute_result"
    }
   ],
   "source": [
    "np.mean(rel_error, axis=0)"
   ]
  },
  {
   "cell_type": "code",
   "execution_count": 17,
   "metadata": {},
   "outputs": [
    {
     "data": {
      "text/plain": [
       "array([0.00975918, 0.00566872, 0.05738011])"
      ]
     },
     "execution_count": 17,
     "metadata": {},
     "output_type": "execute_result"
    }
   ],
   "source": [
    "np.max(rel_error, axis=0)"
   ]
  },
  {
   "cell_type": "code",
   "execution_count": 18,
   "metadata": {},
   "outputs": [
    {
     "data": {
      "text/plain": [
       "0.85"
      ]
     },
     "execution_count": 18,
     "metadata": {},
     "output_type": "execute_result"
    }
   ],
   "source": [
    "np.sum((new_d > 10)) / new_d.shape[0]"
   ]
  },
  {
   "cell_type": "code",
   "execution_count": 19,
   "metadata": {},
   "outputs": [
    {
     "data": {
      "text/plain": [
       "138.983"
      ]
     },
     "execution_count": 19,
     "metadata": {},
     "output_type": "execute_result"
    }
   ],
   "source": [
    "np.sum((new_d > 1e-1)) / new_d.shape[0]"
   ]
  }
 ],
 "metadata": {
  "interpreter": {
   "hash": "fba49db53cdb42543eda737458aeeb56b4eb7d550fddad301fd21a2e85111693"
  },
  "kernelspec": {
   "display_name": "Python 3 (ipykernel)",
   "language": "python",
   "name": "python3"
  },
  "language_info": {
   "codemirror_mode": {
    "name": "ipython",
    "version": 3
   },
   "file_extension": ".py",
   "mimetype": "text/x-python",
   "name": "python",
   "nbconvert_exporter": "python",
   "pygments_lexer": "ipython3",
   "version": "3.8.11"
  }
 },
 "nbformat": 4,
 "nbformat_minor": 2
}
