{
 "cells": [
  {
   "cell_type": "code",
   "execution_count": 1,
   "source": [
    "import numpy as np"
   ],
   "outputs": [],
   "metadata": {}
  },
  {
   "cell_type": "code",
   "execution_count": 11,
   "source": [
    "d = np.loadtxt(\"/Users/fxb/Desktop/拼车预测实验/SIMU_RESULT_2000.csv\", delimiter=',')"
   ],
   "outputs": [],
   "metadata": {}
  },
  {
   "cell_type": "code",
   "execution_count": 12,
   "source": [
    "alpha = (d[:, 1:] > 0).astype(int)"
   ],
   "outputs": [],
   "metadata": {}
  },
  {
   "cell_type": "code",
   "execution_count": 13,
   "source": [
    "deg = np.sum(alpha, axis=1)"
   ],
   "outputs": [],
   "metadata": {}
  },
  {
   "cell_type": "code",
   "execution_count": 14,
   "source": [
    "init_d = d[:, 1:]\n",
    "w = np.zeros((init_d.shape[0], init_d.shape[1]))\n",
    "for j in range(init_d.shape[0]):\n",
    "    for l in range(init_d.shape[1]):\n",
    "        w[j, l] = np.inner(alpha[:, j], alpha[:, l] / deg) / deg[l]"
   ],
   "outputs": [],
   "metadata": {}
  },
  {
   "cell_type": "code",
   "execution_count": 15,
   "source": [
    "new_d = w ** 5 @ init_d"
   ],
   "outputs": [],
   "metadata": {}
  },
  {
   "cell_type": "code",
   "execution_count": 21,
   "source": [
    "OD_cluster = -np.ones(init_d.shape[0])\n",
    "cluster_num = 0\n",
    "for i in range(init_d.shape[0]):\n",
    "    if OD_cluster[i] == -1:\n",
    "        OD_cluster[new_d[i, :] > 1e-6] = cluster_num\n",
    "        cluster_num += 1"
   ],
   "outputs": [],
   "metadata": {}
  },
  {
   "cell_type": "code",
   "execution_count": 19,
   "source": [
    "np.savetxt(\"/Users/fxb/Desktop/拼车预测实验/CLUSTER_2000.csv\", OD_cluster.reshape((OD_cluster.shape[0], 1)), fmt=\"%d\")"
   ],
   "outputs": [],
   "metadata": {}
  },
  {
   "cell_type": "code",
   "execution_count": 22,
   "source": [
    "import pickle"
   ],
   "outputs": [],
   "metadata": {}
  },
  {
   "cell_type": "code",
   "execution_count": 23,
   "source": [
    "with open(\"/Users/fxb/Desktop/拼车预测实验/WEIGHT_BGRAPH\", \"wb\") as outfile:\n",
    "    pickle.dump(w, outfile)\n",
    "with open(\"/Users/fxb/Desktop/拼车预测实验/INIT_D\", \"wb\") as outfile:\n",
    "    pickle.dump(init_d, outfile)"
   ],
   "outputs": [],
   "metadata": {}
  },
  {
   "cell_type": "code",
   "execution_count": 24,
   "source": [
    "with open(\"/Users/fxb/Desktop/拼车预测实验/WEIGHT_BGRAPH\", \"rb\") as outfile:\n",
    "    in_w = pickle.load(outfile)"
   ],
   "outputs": [],
   "metadata": {}
  },
  {
   "cell_type": "code",
   "execution_count": 25,
   "source": [
    "new_d = new_d + new_d.T\n",
    "\n",
    "K = 20\n",
    "NODE_NUM = new_d.shape[0]\n",
    "MAX_ITER = 100\n",
    "node_cluster = np.random.randint(low=0, high=K, size=NODE_NUM)\n",
    "medoids = np.random.choice(np.arange(0, NODE_NUM), K, False)\n",
    "iter_time = 0\n",
    "while iter_time < MAX_ITER:\n",
    "    is_converge = True\n",
    "    for i in range(NODE_NUM):\n",
    "        single_distance = new_d[i, medoids]\n",
    "        if node_cluster[i] != np.argmax(single_distance):\n",
    "            node_cluster[i] = np.argmax(single_distance)\n",
    "            is_converge = False\n",
    "    # avg_radius = np.zeros(K)\n",
    "    for k in range(K):\n",
    "        distance_of_kth_cluster = new_d[node_cluster == k, :]\n",
    "        distance_of_kth_cluster = distance_of_kth_cluster[:, node_cluster == k]\n",
    "        # avg_radius[k] = np.mean(distance_of_kth_cluster)\n",
    "        min_distance_node_idx = np.argmax(np.sum(distance_of_kth_cluster, axis=0))\n",
    "        min_distance_node_idx = np.arange(NODE_NUM)[node_cluster == k][min_distance_node_idx]\n",
    "        if medoids[k] != min_distance_node_idx:\n",
    "            medoids[k] = min_distance_node_idx\n",
    "            is_converge = False\n",
    "    # print(avg_radius)\n",
    "    if is_converge:\n",
    "        break\n",
    "    iter_time += 1"
   ],
   "outputs": [],
   "metadata": {}
  },
  {
   "cell_type": "code",
   "execution_count": 27,
   "source": [
    "np.savetxt(\"/Users/fxb/Desktop/拼车预测实验/CLUSTER_2000.csv\", node_cluster.reshape((node_cluster.shape[0], 1)), fmt=\"%d\")"
   ],
   "outputs": [],
   "metadata": {}
  },
  {
   "cell_type": "code",
   "execution_count": 29,
   "source": [
    "import csv\n",
    "OD_NUM = 2000\n",
    "OD_filepath = \"/Users/fxb/Desktop/拼车预测实验/OD_2000.csv\"\n",
    "OD_pairs = np.zeros((OD_NUM, 6))\n",
    "with open(OD_filepath, mode='r') as file:\n",
    "    data = csv.reader(file)\n",
    "    head = next(data)\n",
    "    id_col = head.index(\"id\")\n",
    "    x1_col = head.index(\"originX\")\n",
    "    y1_col = head.index(\"originY\")\n",
    "    x2_col = head.index(\"destX\")\n",
    "    y2_col = head.index(\"destY\")\n",
    "    lam_col = head.index(\"lambda\")\n",
    "    j = 0\n",
    "    for row in data:\n",
    "        x1 = int(row[x1_col])\n",
    "        x2 = int(row[x2_col])\n",
    "        y1 = int(row[y1_col])\n",
    "        y2 = int(row[y2_col])\n",
    "        lam = float(row[lam_col])\n",
    "        OD_pairs[j, :] = np.array([[j, x1, y1, x2, y2, lam]])\n",
    "        j += 1\n",
    "        if j >= OD_NUM:\n",
    "            break"
   ],
   "outputs": [],
   "metadata": {}
  },
  {
   "cell_type": "code",
   "execution_count": 47,
   "source": [
    "MAX_OD_NUM = 20\n",
    "for n in range(MAX_OD_NUM):\n",
    "    new_OD_pairs = OD_pairs[init_d[n, :] > 0, :]\n",
    "    np.savetxt(\"/Users/fxb/Desktop/误差测试2/OD_Cluster_\" + str(n) + \".csv\", new_OD_pairs, fmt=('%d', '%d', '%d', '%d', '%d', '%.2f'), delimiter=',', header=\"id, originX, originY, destX, destY, lambda\", comments='')"
   ],
   "outputs": [],
   "metadata": {}
  },
  {
   "cell_type": "code",
   "execution_count": 48,
   "source": [
    "index = -np.ones(MAX_OD_NUM)\n",
    "for n in range(MAX_OD_NUM):\n",
    "    index[n] = np.sum(init_d[n, :n] > 0)"
   ],
   "outputs": [],
   "metadata": {}
  },
  {
   "cell_type": "code",
   "execution_count": 49,
   "source": [
    "predict_result = np.zeros((MAX_OD_NUM, 3))\n",
    "for n in range(MAX_OD_NUM):\n",
    "    with open(\"/Users/fxb/Desktop/误差测试2/OD_Cluster_Result_\" + str(n) + \".csv\", mode='r') as file:\n",
    "        data = csv.reader(file)\n",
    "        head = next(data)\n",
    "        pw_col = head.index(\"Pw\")\n",
    "        lw_col = head.index(\"Lw\")\n",
    "        ew_col = head.index(\"ew\")\n",
    "        j = 0\n",
    "        for row in data:\n",
    "            if j < index[n]:\n",
    "                j += 1\n",
    "                continue\n",
    "            pw = float(row[pw_col])\n",
    "            lw = float(row[lw_col])\n",
    "            ew = float(row[ew_col])\n",
    "            predict_result[n, 0] = pw\n",
    "            predict_result[n, 1] = lw\n",
    "            predict_result[n, 2] = ew\n",
    "            break"
   ],
   "outputs": [],
   "metadata": {}
  },
  {
   "cell_type": "code",
   "execution_count": 50,
   "source": [
    "OD_filepath = \"/Users/fxb/Desktop/拼车预测实验/RESULT_2000.csv\"\n",
    "global_predict_result = np.zeros((MAX_OD_NUM, 3))\n",
    "with open(OD_filepath, mode='r') as file:\n",
    "    data = csv.reader(file)\n",
    "    head = next(data)\n",
    "    pw_col = head.index(\"Pw\")\n",
    "    lw_col = head.index(\"Lw\")\n",
    "    ew_col = head.index(\"ew\")\n",
    "    j = 0\n",
    "    for row in data:\n",
    "        pw = float(row[pw_col])\n",
    "        lw = float(row[lw_col])\n",
    "        ew = float(row[ew_col])\n",
    "        global_predict_result[j, 0] = pw\n",
    "        global_predict_result[j, 1] = lw\n",
    "        global_predict_result[j, 2] = ew\n",
    "        j += 1\n",
    "        if j >= MAX_OD_NUM:\n",
    "            break"
   ],
   "outputs": [],
   "metadata": {}
  },
  {
   "cell_type": "code",
   "execution_count": 51,
   "source": [
    "rel_error_2 = np.abs(global_predict_result - predict_result) / global_predict_result"
   ],
   "outputs": [],
   "metadata": {}
  },
  {
   "cell_type": "code",
   "execution_count": 46,
   "source": [
    "np.arange(2000)[init_d[0, :] > 0]"
   ],
   "outputs": [
    {
     "output_type": "execute_result",
     "data": {
      "text/plain": [
       "array([   0,   24,  158,  372,  477,  571,  678,  848,  942, 1000, 1022,\n",
       "       1024, 1034, 1372, 1477, 1643, 1892])"
      ]
     },
     "metadata": {},
     "execution_count": 46
    }
   ],
   "metadata": {}
  },
  {
   "cell_type": "code",
   "execution_count": 52,
   "source": [
    "rel_error_2 - rel_error"
   ],
   "outputs": [
    {
     "output_type": "execute_result",
     "data": {
      "text/plain": [
       "array([[ 5.53974601e-03,  1.86064982e-03,  3.39305054e-02],\n",
       "       [ 4.35054379e-02,  2.51662062e-03,  6.18079315e-02],\n",
       "       [ 9.22900923e-03, -1.39853372e-03,  2.09487635e-02],\n",
       "       [ 3.26357693e-02,  6.98218749e-03,  6.08858019e-02],\n",
       "       [ 6.80897644e-03, -2.23020849e-04,  7.31015531e-02],\n",
       "       [ 8.00226258e-02,  1.96489541e-02,  8.43303868e-02],\n",
       "       [ 1.10251814e-02,  3.14136126e-04,  8.53829587e-03],\n",
       "       [ 4.01514455e-03,  8.62623131e-05,  2.22385649e-03],\n",
       "       [ 1.27500638e-03,  3.32474642e-03,  2.65207707e-02],\n",
       "       [ 4.79236964e-03,  1.15910193e-02,  1.29064070e-02],\n",
       "       [ 4.67989982e-02,  2.28425370e-02,  2.61989395e-02],\n",
       "       [ 7.00122404e-03,  7.12312099e-03,  3.12914530e-03],\n",
       "       [ 8.53851032e-03,  6.41830215e-05, -1.72528102e-03],\n",
       "       [ 1.59544758e-02,  5.11068548e-03,  2.40240083e-02],\n",
       "       [ 9.27858269e-04,  3.12000752e-03,  6.86790456e-03],\n",
       "       [ 1.12163796e-02,  1.81420642e-03,  1.64075678e-03],\n",
       "       [ 1.56797902e-04, -5.51675796e-04,  2.21399385e-02],\n",
       "       [ 5.42216266e-03,  5.24533165e-04,  3.77502522e-02],\n",
       "       [ 6.80037729e-04, -5.70741774e-04,  8.38193368e-03],\n",
       "       [ 2.55459829e-02,  3.45678330e-03,  3.57498673e-03]])"
      ]
     },
     "metadata": {},
     "execution_count": 52
    }
   ],
   "metadata": {}
  },
  {
   "cell_type": "code",
   "execution_count": null,
   "source": [],
   "outputs": [],
   "metadata": {}
  }
 ],
 "metadata": {
  "orig_nbformat": 4,
  "language_info": {
   "name": "python",
   "version": "3.8.12",
   "mimetype": "text/x-python",
   "codemirror_mode": {
    "name": "ipython",
    "version": 3
   },
   "pygments_lexer": "ipython3",
   "nbconvert_exporter": "python",
   "file_extension": ".py"
  },
  "kernelspec": {
   "name": "python3",
   "display_name": "Python 3.8.12 64-bit ('data_processing': conda)"
  },
  "interpreter": {
   "hash": "fba49db53cdb42543eda737458aeeb56b4eb7d550fddad301fd21a2e85111693"
  }
 },
 "nbformat": 4,
 "nbformat_minor": 2
}