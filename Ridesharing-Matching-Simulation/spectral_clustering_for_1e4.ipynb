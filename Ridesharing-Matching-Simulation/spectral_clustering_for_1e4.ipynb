{
 "cells": [
  {
   "cell_type": "code",
   "execution_count": null,
   "id": "23a46bb2",
   "metadata": {},
   "outputs": [],
   "source": [
    "from sklearn.cluster import SpectralClustering\n",
    "import numpy as np\n",
    "import csv\n",
    "import pickle\n",
    "import matplotlib.pyplot as plt"
   ]
  },
  {
   "cell_type": "code",
   "execution_count": null,
   "id": "de0849a0-87d0-417b-a560-a307d1f8b1ca",
   "metadata": {},
   "outputs": [],
   "source": [
    "with open(r\"C:\\Users\\admin\\Desktop\\Prediction-Simulation-Data\\INIT_D\", \"rb\") as outfile:\n",
    "    init_w = pickle.load(outfile)\n",
    "with open(r\"C:\\Users\\admin\\Desktop\\Prediction-Simulation-Data\\WEIGHT_BGRAPH\", \"rb\") as outfile:\n",
    "    bi_graph_w = pickle.load(outfile)"
   ]
  },
  {
   "cell_type": "code",
   "execution_count": null,
   "metadata": {},
   "outputs": [],
   "source": [
    "w = init_w + init_w.T\n",
    "selected_OD = np.sum(w > 0, axis=0) != 1\n",
    "w = w[selected_OD, :]\n",
    "w = w[:, selected_OD]"
   ]
  },
  {
   "cell_type": "code",
   "execution_count": null,
   "id": "a4807890-cdc9-4866-b943-5fde48eabdd8",
   "metadata": {},
   "outputs": [],
   "source": [
    "print(np.sum(w > 0, axis = 0))\n",
    "print(np.mean(np.sum(w > 0, axis = 0)))"
   ]
  },
  {
   "cell_type": "code",
   "execution_count": null,
   "metadata": {},
   "outputs": [],
   "source": [
    "temp = w - np.diag(np.diag(w))\n",
    "np.mean(np.sum(temp, axis=0))"
   ]
  },
  {
   "cell_type": "code",
   "execution_count": null,
   "id": "5bfc3e51",
   "metadata": {},
   "outputs": [],
   "source": [
    "d = np.sum(w, axis=0)\n",
    "l = np.diag(d) - w\n",
    "lam, u = np.linalg.eig(l)"
   ]
  },
  {
   "cell_type": "code",
   "execution_count": null,
   "metadata": {},
   "outputs": [],
   "source": [
    "plt.plot(np.sort(lam)[:20])\n",
    "plt.show()"
   ]
  },
  {
   "cell_type": "code",
   "execution_count": null,
   "id": "952d3f34-3331-4654-857c-7612f004e655",
   "metadata": {},
   "outputs": [],
   "source": [
    "c = u[:, np.argsort(lam, axis=0)]\n",
    "for i in range(5):\n",
    "    plt.plot(c[:, i])\n",
    "plt.show()"
   ]
  },
  {
   "cell_type": "code",
   "execution_count": null,
   "id": "49832008",
   "metadata": {},
   "outputs": [],
   "source": [
    "CLUSTER_NUM = 4\n",
    "clustering = SpectralClustering(\n",
    "    n_clusters=CLUSTER_NUM,\n",
    "    n_components=CLUSTER_NUM * 2,\n",
    "    affinity='precomputed', \n",
    "    random_state=0, \n",
    "    assign_labels='kmeans').fit(w)\n",
    "labels = clustering.labels_\n",
    "# labels = np.random.randint(0, 3, OD_NUM)\n",
    "for n in range(CLUSTER_NUM):\n",
    "    print(n, np.sum(labels == n))\n",
    "# np.max(labels)"
   ]
  },
  {
   "cell_type": "code",
   "execution_count": null,
   "id": "370b6bdb-aa48-4089-9d9c-ca9db1f80b1a",
   "metadata": {},
   "outputs": [],
   "source": [
    "import csv\n",
    "OD_NUM = np.sum(selected_OD)\n",
    "OD_filepath = r\"C:\\Users\\admin\\Desktop\\Prediction-Simulation-Data\\OD_2000.csv\"\n",
    "OD_pairs = np.zeros((OD_NUM, 6))\n",
    "with open(OD_filepath, mode='r') as file:\n",
    "    data = csv.reader(file)\n",
    "    head = next(data)\n",
    "    id_col = head.index(\"id\")\n",
    "    x1_col = head.index(\"originX\")\n",
    "    y1_col = head.index(\"originY\")\n",
    "    x2_col = head.index(\"destX\")\n",
    "    y2_col = head.index(\"destY\")\n",
    "    lam_col = head.index(\"lambda\")\n",
    "    i = j = 0\n",
    "    for row in data:\n",
    "        if selected_OD[i]:\n",
    "            x1 = int(row[x1_col])\n",
    "            x2 = int(row[x2_col])\n",
    "            y1 = int(row[y1_col])\n",
    "            y2 = int(row[y2_col])\n",
    "            lam = float(row[lam_col])\n",
    "            OD_pairs[j, :] = np.array([[j, x1, y1, x2, y2, lam]])\n",
    "            j += 1\n",
    "        i += 1"
   ]
  },
  {
   "cell_type": "code",
   "execution_count": null,
   "id": "3c5bef0f-51e7-43f0-a4ff-c6868cc0bcbe",
   "metadata": {},
   "outputs": [],
   "source": [
    "for n in range(CLUSTER_NUM):\n",
    "    new_OD_pairs = OD_pairs[labels == n, :]\n",
    "    np.savetxt(r\"C:\\Users\\admin\\Desktop\\Error-Test-Data-SC\\OD_Cluster_\" + str(n) + \".csv\", new_OD_pairs, fmt=('%d', '%d', '%d', '%d', '%d', '%.2f'), delimiter=',', header=\"id, originX, originY, destX, destY, lambda\", comments='')"
   ]
  },
  {
   "cell_type": "code",
   "execution_count": null,
   "id": "cc842e3b-7dd3-4b14-a61d-5e800ec0907f",
   "metadata": {},
   "outputs": [],
   "source": [
    "OD_filepath = r\"C:\\Users\\admin\\Desktop\\Prediction-Simulation-Data\\RESULT_2000.csv\"\n",
    "global_predict_result = np.zeros((OD_NUM, 3))\n",
    "with open(OD_filepath, mode='r') as file:\n",
    "    data = csv.reader(file)\n",
    "    head = next(data)\n",
    "    pw_col = head.index(\"Pw\")\n",
    "    lw_col = head.index(\"Lw\")\n",
    "    ew_col = head.index(\"ew\")\n",
    "    i = j = 0\n",
    "    for row in data:\n",
    "        if selected_OD[i]:\n",
    "            pw = float(row[pw_col])\n",
    "            lw = float(row[lw_col])\n",
    "            ew = float(row[ew_col])\n",
    "            global_predict_result[j, 0] = pw\n",
    "            global_predict_result[j, 1] = lw\n",
    "            global_predict_result[j, 2] = ew\n",
    "            j += 1\n",
    "        i += 1"
   ]
  },
  {
   "cell_type": "code",
   "execution_count": null,
   "id": "db96bb90-c596-45e3-a977-264814c4546a",
   "metadata": {},
   "outputs": [],
   "source": [
    "predict_result = np.zeros((OD_NUM, 3))\n",
    "j = 0\n",
    "for n in range(CLUSTER_NUM):\n",
    "    with open(r\"C:\\Users\\admin\\Desktop\\Error-Test-Data-SC\\OD_Cluster_Result_\" + str(n) + \".csv\", mode='r') as file:\n",
    "        data = csv.reader(file)\n",
    "        head = next(data)\n",
    "        pw_col = head.index(\"Pw\")\n",
    "        lw_col = head.index(\"Lw\")\n",
    "        ew_col = head.index(\"ew\")\n",
    "        for row in data:\n",
    "            pw = float(row[pw_col])\n",
    "            lw = float(row[lw_col])\n",
    "            ew = float(row[ew_col])\n",
    "            predict_result[j, 0] = pw\n",
    "            predict_result[j, 1] = lw\n",
    "            predict_result[j, 2] = ew\n",
    "            j += 1"
   ]
  },
  {
   "cell_type": "code",
   "execution_count": null,
   "id": "4250936e-4ef5-4bb7-a8d5-aa6237b9ec9d",
   "metadata": {},
   "outputs": [],
   "source": [
    "index = np.arange(OD_NUM)[labels == 0]\n",
    "for n in range(1, CLUSTER_NUM):\n",
    "    index = np.concatenate((index, np.arange(OD_NUM)[labels == n]))"
   ]
  },
  {
   "cell_type": "code",
   "execution_count": null,
   "id": "ca019fca-4495-47b7-a86e-564f6953fc11",
   "metadata": {},
   "outputs": [],
   "source": [
    "index"
   ]
  },
  {
   "cell_type": "code",
   "execution_count": null,
   "id": "06e8ba41-d591-4eaa-9a46-27cda7228da2",
   "metadata": {},
   "outputs": [],
   "source": [
    "global_predict_result = global_predict_result[index, :]"
   ]
  },
  {
   "cell_type": "code",
   "execution_count": null,
   "id": "8b5c1d21-78a6-4eb6-af71-14cf283c79cf",
   "metadata": {},
   "outputs": [],
   "source": [
    "global_predict_result"
   ]
  },
  {
   "cell_type": "code",
   "execution_count": null,
   "id": "206ecfb8-c265-462c-9160-9a63dd96c66c",
   "metadata": {},
   "outputs": [],
   "source": [
    "predict_result"
   ]
  },
  {
   "cell_type": "code",
   "execution_count": null,
   "id": "866e23b0-11b7-477f-a89d-47523eacde64",
   "metadata": {},
   "outputs": [],
   "source": [
    "rel_error = np.abs(global_predict_result - predict_result) / global_predict_result * 100"
   ]
  },
  {
   "cell_type": "code",
   "execution_count": null,
   "id": "2b4b12ef-8acb-4d1b-bb9c-4e996be7c191",
   "metadata": {},
   "outputs": [],
   "source": [
    "np.mean(rel_error, axis=0)"
   ]
  },
  {
   "cell_type": "code",
   "execution_count": null,
   "id": "c3f949dc-d256-432f-8744-fa8460806266",
   "metadata": {},
   "outputs": [],
   "source": [
    "np.max(rel_error, axis=0)"
   ]
  },
  {
   "cell_type": "code",
   "execution_count": null,
   "id": "347c80a1-ebe0-4a72-830e-29b35a0a49f9",
   "metadata": {},
   "outputs": [],
   "source": [
    "plt.figure(figsize=(12.8, 9.6))\n",
    "plt.subplot(221)\n",
    "plt.plot(np.sort(rel_error[:, 0]), label=\"pw\")\n",
    "plt.plot(np.sort(rel_error[:, 1]), label=\"lw\")\n",
    "plt.plot(np.sort(rel_error[:, 2]), label=\"ew\")\n",
    "plt.ylabel(\"Relative Error/%\")\n",
    "plt.xlabel(\"OD Index\")\n",
    "plt.title(\"Number of Clusters = \" + str(CLUSTER_NUM))\n",
    "plt.legend()\n",
    "plt.grid(True)\n",
    "plt.subplot(222)\n",
    "plt.plot(np.sort(rel_error[:, 0])[:1500], label=\"pw\")\n",
    "plt.plot(np.sort(rel_error[:, 1])[:1500], label=\"lw\")\n",
    "plt.plot(np.sort(rel_error[:, 2])[:1500], label=\"ew\")\n",
    "plt.ylabel(\"Relative Error/%\")\n",
    "plt.xlabel(\"OD Index\")\n",
    "plt.title(\"Number of Clusters = \" + str(CLUSTER_NUM))\n",
    "plt.legend()\n",
    "plt.grid(True)\n",
    "plt.subplot(223)\n",
    "plt.plot(np.sort(rel_error[:, 0])[:1800], label=\"pw\")\n",
    "plt.plot(np.sort(rel_error[:, 1])[:1800], label=\"lw\")\n",
    "plt.plot(np.sort(rel_error[:, 2])[:1800], label=\"ew\")\n",
    "plt.ylabel(\"Relative Error/%\")\n",
    "plt.xlabel(\"OD Index\")\n",
    "plt.title(\"Number of Clusters = \" + str(CLUSTER_NUM))\n",
    "plt.legend()\n",
    "plt.grid(True)\n",
    "plt.show()"
   ]
  },
  {
   "cell_type": "code",
   "execution_count": null,
   "id": "e1036ec1-c915-499e-9d58-53209a91ee3b",
   "metadata": {},
   "outputs": [],
   "source": [
    "global_predict_result[np.argmax(rel_error, axis=0), :]"
   ]
  },
  {
   "cell_type": "code",
   "execution_count": null,
   "id": "65e012d2-5d43-4689-bbb5-e7fe15b2dc14",
   "metadata": {},
   "outputs": [],
   "source": [
    "predict_result[np.argmax(rel_error, axis=0), :]"
   ]
  },
  {
   "cell_type": "code",
   "execution_count": null,
   "id": "d6542b4d-951d-4d80-97c5-40f036e5af1e",
   "metadata": {},
   "outputs": [],
   "source": [
    "divide = 0\n",
    "plt.figure(figsize=(12.8, 4.8*CLUSTER_NUM))\n",
    "for n in range(CLUSTER_NUM):\n",
    "    rel_error = np.abs(global_predict_result[divide:divide + np.sum(labels == n), :] - predict_result[divide:divide + np.sum(labels == n), :]) / global_predict_result[divide:divide + np.sum(labels == n), :] * 100\n",
    "    plt.subplot(CLUSTER_NUM, 2, 2*n+1)\n",
    "    plt.plot(np.sort(rel_error[:, 0]), label=\"pw\")\n",
    "    plt.plot(np.sort(rel_error[:, 1]), label=\"lw\")\n",
    "    plt.plot(np.sort(rel_error[:, 2]), label=\"ew\")\n",
    "    plt.ylabel(\"Relative Error/%\")\n",
    "    plt.xlabel(\"OD Index\")\n",
    "    plt.title(\"Number of Clusters = \" + str(np.sum(labels == n)))\n",
    "    plt.legend()\n",
    "    plt.grid(True)\n",
    "    plt.subplot(CLUSTER_NUM, 2, 2*n+2)\n",
    "    plt.plot(np.sort(rel_error[:, 0])[:np.int64(np.sum(labels == n) * 0.75)], label=\"pw\")\n",
    "    plt.plot(np.sort(rel_error[:, 1])[:np.int64(np.sum(labels == n) * 0.75)], label=\"lw\")\n",
    "    plt.plot(np.sort(rel_error[:, 2])[:np.int64(np.sum(labels == n) * 0.75)], label=\"ew\")\n",
    "    plt.xlabel(\"OD Index\")\n",
    "    plt.title(\"Number of Clusters = \" + str(np.int64(np.sum(labels == n) * 0.75)))\n",
    "    plt.legend()\n",
    "    plt.grid(True)\n",
    "    print(n, np.sum(labels == n), np.mean(rel_error, axis=0), np.max(rel_error, axis=0))\n",
    "    divide += np.sum(labels == n)\n",
    "plt.show()"
   ]
  },
  {
   "cell_type": "raw",
   "id": "ee3c63da-720d-478f-b5c0-952a66f44dde",
   "metadata": {},
   "source": [
    "CLUSTER_NUM = 3\n",
    "0 1263 [0.00524598 0.00094932 0.00759981] [0.36797788 0.05645056 0.4948359 ]\n",
    "1263\n",
    "1 349 [0.02771692 0.00111043 0.02403318] [0.35810757 0.02805139 0.34079946]\n",
    "1612\n",
    "2 388 [0.02543398 0.00180153 0.02327725] [0.50437342 0.02437528 0.41488562]\n",
    "2000\n",
    "CLUSTER_NUM = 5\n",
    "0 512 [0.03391771 0.0018094  0.02247835] [0.58461838 0.03034194 0.36901013]\n",
    "512\n",
    "1 1292 [0.00527625 0.00078961 0.00805638] [0.48047416 0.04979284 0.39044509]\n",
    "1804\n",
    "2 64 [0.04163797 0.00181948 0.03606197] [0.26291816 0.01764915 0.31938189]\n",
    "1868\n",
    "3 115 [0.04019098 0.00269534 0.03254445] [0.47698462 0.02539347 0.34770632]\n",
    "1983\n",
    "4 17 [0.03952183 0.00634065 0.03404146] [0.26799202 0.01332449 0.24721336]\n",
    "2000"
   ]
  },
  {
   "cell_type": "code",
   "execution_count": null,
   "id": "b9f9aeb3-0ccf-4323-8fd5-f9010c09f5ba",
   "metadata": {},
   "outputs": [],
   "source": [
    "rel_error = np.abs(global_predict_result - predict_result) / global_predict_result * 100"
   ]
  },
  {
   "cell_type": "code",
   "execution_count": null,
   "id": "5d4760cc-54a8-487d-bcb6-15ebabf0d31f",
   "metadata": {},
   "outputs": [],
   "source": [
    "MAX_ERROR_NUM = 500\n",
    "max_error_idx = np.argsort(rel_error[:, 0])[-MAX_ERROR_NUM:]\n",
    "# rel_error[max_error_idx, 0]"
   ]
  },
  {
   "cell_type": "code",
   "execution_count": null,
   "id": "16e4efb4-db1c-4e9b-920e-d5656a4f1782",
   "metadata": {},
   "outputs": [],
   "source": [
    "cut = np.zeros(OD_NUM)\n",
    "for n in range(OD_NUM):\n",
    "    cut[n] = np.sum(w[n, labels != labels[n]])\n",
    "cut = cut[index]\n",
    "avg_cut = np.mean(cut)\n",
    "max_cut = np.zeros(10)\n",
    "for i in range(10):\n",
    "    max_cut[i] = np.mean(cut[max_error_idx[50 * i : 50 * (i + 1)]])"
   ]
  },
  {
   "cell_type": "code",
   "execution_count": null,
   "metadata": {},
   "outputs": [],
   "source": [
    "plt.plot(max_cut)\n",
    "plt.plot(avg_cut*np.ones(10))\n",
    "print(avg_cut)\n",
    "plt.show()"
   ]
  },
  {
   "cell_type": "code",
   "execution_count": null,
   "metadata": {},
   "outputs": [],
   "source": []
  }
 ],
 "metadata": {
  "interpreter": {
   "hash": "690e3fee0bcee1670c580d8cf0a9e9cdc1da2266ecd1b9a84c34c69459d0cab3"
  },
  "kernelspec": {
   "display_name": "Python 3.8.11 64-bit ('simulation': conda)",
   "name": "python3"
  },
  "language_info": {
   "codemirror_mode": {
    "name": "ipython",
    "version": 3
   },
   "file_extension": ".py",
   "mimetype": "text/x-python",
   "name": "python",
   "nbconvert_exporter": "python",
   "pygments_lexer": "ipython3",
   "version": "3.8.11"
  },
  "toc-autonumbering": false,
  "toc-showmarkdowntxt": false
 },
 "nbformat": 4,
 "nbformat_minor": 5
}
